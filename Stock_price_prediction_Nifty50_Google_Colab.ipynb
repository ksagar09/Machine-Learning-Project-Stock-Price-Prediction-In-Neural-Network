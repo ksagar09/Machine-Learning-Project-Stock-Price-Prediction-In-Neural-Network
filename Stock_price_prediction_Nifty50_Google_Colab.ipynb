{
  "nbformat": 4,
  "nbformat_minor": 0,
  "metadata": {
    "colab": {
      "name": "Stock price prediction Nifty50.ipynb",
      "provenance": [],
      "collapsed_sections": []
    },
    "kernelspec": {
      "name": "python3",
      "display_name": "Python 3"
    }
  },
  "cells": [
    {
      "cell_type": "code",
      "metadata": {
        "id": "Xud_GnS1xj0a",
        "colab_type": "code",
        "colab": {
          "base_uri": "https://localhost:8080/",
          "height": 72
        },
        "outputId": "4595a602-4504-4011-cb01-3d15ea8cb2af"
      },
      "source": [
        "# DataSource- https://www.nseindia.com/market-data/live-equity-market\n",
        "# Import the libraries\n",
        "import pandas as pd\n",
        "import numpy as np\n",
        "import matplotlib.pyplot as plt\n",
        "from sklearn.preprocessing import MinMaxScaler\n",
        "from keras.models import Sequential, load_model\n",
        "from keras.layers import LSTM, Dense, Dropout\n",
        "import os\n",
        "import tensorflow as tf\n",
        "from google.colab import files, drive\n",
        "import io\n",
        "import seaborn as sns\n",
        "import h5py"
      ],
      "execution_count": 1,
      "outputs": [
        {
          "output_type": "stream",
          "text": [
            "/usr/local/lib/python3.6/dist-packages/statsmodels/tools/_testing.py:19: FutureWarning: pandas.util.testing is deprecated. Use the functions in the public API at pandas.testing instead.\n",
            "  import pandas.util.testing as tm\n"
          ],
          "name": "stderr"
        }
      ]
    },
    {
      "cell_type": "code",
      "metadata": {
        "id": "jzjzgk3nLh7Z",
        "colab_type": "code",
        "colab": {
          "base_uri": "https://localhost:8080/",
          "height": 34
        },
        "outputId": "6915c742-51df-4698-cd63-699eb91e278e"
      },
      "source": [
        ""
      ],
      "execution_count": null,
      "outputs": [
        {
          "output_type": "execute_result",
          "data": {
            "text/plain": [
              "1"
            ]
          },
          "metadata": {
            "tags": []
          },
          "execution_count": 111
        }
      ]
    },
    {
      "cell_type": "code",
      "metadata": {
        "id": "OiZnFRKbxtky",
        "colab_type": "code",
        "colab": {
          "base_uri": "https://localhost:8080/",
          "height": 124
        },
        "outputId": "1b0c753b-6e43-4bab-9b6a-5b3588555d53"
      },
      "source": [
        "drive.mount('/content/gdrive')"
      ],
      "execution_count": null,
      "outputs": [
        {
          "output_type": "stream",
          "text": [
            "Go to this URL in a browser: https://accounts.google.com/o/oauth2/auth?client_id=947318989803-6bn6qk8qdgf4n4g3pfee6491hc0brc4i.apps.googleusercontent.com&redirect_uri=urn%3aietf%3awg%3aoauth%3a2.0%3aoob&scope=email%20https%3a%2f%2fwww.googleapis.com%2fauth%2fdocs.test%20https%3a%2f%2fwww.googleapis.com%2fauth%2fdrive%20https%3a%2f%2fwww.googleapis.com%2fauth%2fdrive.photos.readonly%20https%3a%2f%2fwww.googleapis.com%2fauth%2fpeopleapi.readonly&response_type=code\n",
            "\n",
            "Enter your authorization code:\n",
            "··········\n",
            "Mounted at /content/gdrive\n"
          ],
          "name": "stdout"
        }
      ]
    },
    {
      "cell_type": "code",
      "metadata": {
        "id": "JVb86_jUyD_B",
        "colab_type": "code",
        "colab": {
          "base_uri": "https://localhost:8080/",
          "height": 206
        },
        "outputId": "019a963c-defd-43c8-9d89-eaad0c998e27"
      },
      "source": [
        "\n",
        "\n",
        "# df = pd.read_csv('gdrive/My Drive/Colab Notebooks/MidcapSmall400-01-Sep-2020.csv')\n",
        "df = pd.read_csv('gdrive/My Drive/Colab Notebooks/Nifty50data.csv')\n",
        "\n",
        "df.head()"
      ],
      "execution_count": null,
      "outputs": [
        {
          "output_type": "execute_result",
          "data": {
            "text/html": [
              "<div>\n",
              "<style scoped>\n",
              "    .dataframe tbody tr th:only-of-type {\n",
              "        vertical-align: middle;\n",
              "    }\n",
              "\n",
              "    .dataframe tbody tr th {\n",
              "        vertical-align: top;\n",
              "    }\n",
              "\n",
              "    .dataframe thead th {\n",
              "        text-align: right;\n",
              "    }\n",
              "</style>\n",
              "<table border=\"1\" class=\"dataframe\">\n",
              "  <thead>\n",
              "    <tr style=\"text-align: right;\">\n",
              "      <th></th>\n",
              "      <th>Date</th>\n",
              "      <th>Open</th>\n",
              "      <th>High</th>\n",
              "      <th>Low</th>\n",
              "      <th>Close</th>\n",
              "      <th>Shares Traded</th>\n",
              "      <th>Turnover (Rs. Cr)</th>\n",
              "    </tr>\n",
              "  </thead>\n",
              "  <tbody>\n",
              "    <tr>\n",
              "      <th>0</th>\n",
              "      <td>26-Aug-2019</td>\n",
              "      <td>11000.30</td>\n",
              "      <td>11070.30</td>\n",
              "      <td>10756.55</td>\n",
              "      <td>11057.85</td>\n",
              "      <td>684141923</td>\n",
              "      <td>22375.99</td>\n",
              "    </tr>\n",
              "    <tr>\n",
              "      <th>1</th>\n",
              "      <td>27-Aug-2019</td>\n",
              "      <td>11106.55</td>\n",
              "      <td>11141.75</td>\n",
              "      <td>11049.50</td>\n",
              "      <td>11105.35</td>\n",
              "      <td>685551267</td>\n",
              "      <td>27413.16</td>\n",
              "    </tr>\n",
              "    <tr>\n",
              "      <th>2</th>\n",
              "      <td>28-Aug-2019</td>\n",
              "      <td>11101.30</td>\n",
              "      <td>11129.65</td>\n",
              "      <td>10987.65</td>\n",
              "      <td>11046.10</td>\n",
              "      <td>549954696</td>\n",
              "      <td>16739.43</td>\n",
              "    </tr>\n",
              "    <tr>\n",
              "      <th>3</th>\n",
              "      <td>29-Aug-2019</td>\n",
              "      <td>10996.05</td>\n",
              "      <td>11021.10</td>\n",
              "      <td>10922.40</td>\n",
              "      <td>10948.30</td>\n",
              "      <td>649876160</td>\n",
              "      <td>20127.77</td>\n",
              "    </tr>\n",
              "    <tr>\n",
              "      <th>4</th>\n",
              "      <td>30-Aug-2019</td>\n",
              "      <td>10987.80</td>\n",
              "      <td>11042.60</td>\n",
              "      <td>10874.80</td>\n",
              "      <td>11023.25</td>\n",
              "      <td>628154431</td>\n",
              "      <td>21057.31</td>\n",
              "    </tr>\n",
              "  </tbody>\n",
              "</table>\n",
              "</div>"
            ],
            "text/plain": [
              "          Date      Open      High  ...     Close  Shares Traded  Turnover (Rs. Cr)\n",
              "0  26-Aug-2019  11000.30  11070.30  ...  11057.85      684141923           22375.99\n",
              "1  27-Aug-2019  11106.55  11141.75  ...  11105.35      685551267           27413.16\n",
              "2  28-Aug-2019  11101.30  11129.65  ...  11046.10      549954696           16739.43\n",
              "3  29-Aug-2019  10996.05  11021.10  ...  10948.30      649876160           20127.77\n",
              "4  30-Aug-2019  10987.80  11042.60  ...  11023.25      628154431           21057.31\n",
              "\n",
              "[5 rows x 7 columns]"
            ]
          },
          "metadata": {
            "tags": []
          },
          "execution_count": 26
        }
      ]
    },
    {
      "cell_type": "code",
      "metadata": {
        "id": "4hl8Lmt40Hwx",
        "colab_type": "code",
        "colab": {
          "base_uri": "https://localhost:8080/",
          "height": 607
        },
        "outputId": "426616fa-b2b4-490e-fa2f-d242c586b18a"
      },
      "source": [
        "df.info()"
      ],
      "execution_count": null,
      "outputs": [
        {
          "output_type": "stream",
          "text": [
            "<class 'pandas.core.frame.DataFrame'>\n",
            "RangeIndex: 401 entries, 0 to 400\n",
            "Data columns (total 14 columns):\n",
            " #   Column                      Non-Null Count  Dtype  \n",
            "---  ------                      --------------  -----  \n",
            " 0   SYMBOL \n",
            "                    401 non-null    object \n",
            " 1   OPEN \n",
            "                      401 non-null    float64\n",
            " 2   HIGH \n",
            "                      401 non-null    float64\n",
            " 3   LOW \n",
            "                       401 non-null    float64\n",
            " 4   PREV. CLOSE \n",
            "               401 non-null    float64\n",
            " 5   LTP \n",
            "                       401 non-null    float64\n",
            " 6   CHNG \n",
            "                      401 non-null    object \n",
            " 7   %CHNG \n",
            "                     401 non-null    object \n",
            " 8   VOLUME \n",
            "(shares)            401 non-null    int64  \n",
            " 9   VALUE                       401 non-null    float64\n",
            " 10  52W H \n",
            "                     401 non-null    float64\n",
            " 11  52W L \n",
            "                     401 non-null    float64\n",
            " 12  365 D % CHNG \n",
            " 30-Aug-2019  401 non-null    object \n",
            " 13  30 D % CHNG \n",
            " 31-Jul-2020   401 non-null    object \n",
            "dtypes: float64(8), int64(1), object(5)\n",
            "memory usage: 44.0+ KB\n"
          ],
          "name": "stdout"
        }
      ]
    },
    {
      "cell_type": "code",
      "metadata": {
        "id": "0PeX6zMQ0Jn5",
        "colab_type": "code",
        "colab": {
          "base_uri": "https://localhost:8080/",
          "height": 156
        },
        "outputId": "c885691b-287c-4db5-dea0-62f827dcb3b2"
      },
      "source": [
        "# preprocessing data\n",
        "df= df['Open'].values\n",
        "df= df.reshape(-1,1)\n",
        "print(df.shape)\n",
        "df[:7]"
      ],
      "execution_count": null,
      "outputs": [
        {
          "output_type": "stream",
          "text": [
            "(247, 1)\n"
          ],
          "name": "stdout"
        },
        {
          "output_type": "execute_result",
          "data": {
            "text/plain": [
              "array([[11000.3 ],\n",
              "       [11106.55],\n",
              "       [11101.3 ],\n",
              "       [10996.05],\n",
              "       [10987.8 ],\n",
              "       [10960.95],\n",
              "       [10790.4 ]])"
            ]
          },
          "metadata": {
            "tags": []
          },
          "execution_count": 28
        }
      ]
    },
    {
      "cell_type": "code",
      "metadata": {
        "id": "Au8IDd4L0M19",
        "colab_type": "code",
        "colab": {
          "base_uri": "https://localhost:8080/",
          "height": 52
        },
        "outputId": "a458d732-aaa6-4881-8673-eee4c945ad32"
      },
      "source": [
        "train_data= np.array(df[:int(df.shape[0]*0.8)])\n",
        "test_data= np.array(df[int(df.shape[0]*0.8)-50:])\n",
        "print(train_data.shape)\n",
        "print(test_data.shape)"
      ],
      "execution_count": null,
      "outputs": [
        {
          "output_type": "stream",
          "text": [
            "(197, 1)\n",
            "(100, 1)\n"
          ],
          "name": "stdout"
        }
      ]
    },
    {
      "cell_type": "code",
      "metadata": {
        "id": "D4gwo_E90PEp",
        "colab_type": "code",
        "colab": {
          "base_uri": "https://localhost:8080/",
          "height": 139
        },
        "outputId": "b9a8797d-ad58-47fd-c77e-619abf10ad24"
      },
      "source": [
        "scaler= MinMaxScaler(feature_range=(0,1))\n",
        "train_data= scaler.fit_transform(train_data)\n",
        "train_data[:7]"
      ],
      "execution_count": null,
      "outputs": [
        {
          "output_type": "execute_result",
          "data": {
            "text/plain": [
              "array([[0.69540077],\n",
              "       [0.71802954],\n",
              "       [0.71691141],\n",
              "       [0.69449562],\n",
              "       [0.69273856],\n",
              "       [0.68702014],\n",
              "       [0.65069697]])"
            ]
          },
          "metadata": {
            "tags": []
          },
          "execution_count": 30
        }
      ]
    },
    {
      "cell_type": "code",
      "metadata": {
        "id": "by79fYUf0RUy",
        "colab_type": "code",
        "colab": {
          "base_uri": "https://localhost:8080/",
          "height": 139
        },
        "outputId": "bf63dbc9-f086-4686-fe68-2da44650c867"
      },
      "source": [
        "test_data= scaler.transform(test_data) #why we not used fit transform because we should not harm the scalar= MinMaxScaler(feature_range=(0,1))\n",
        "                                    # because the test data is the data which model never seen before. \n",
        "test_data[:7]"
      ],
      "execution_count": null,
      "outputs": [
        {
          "output_type": "execute_result",
          "data": {
            "text/plain": [
              "array([[0.13860522],\n",
              "       [0.16914607],\n",
              "       [0.18080654],\n",
              "       [0.1323437 ],\n",
              "       [0.15145836],\n",
              "       [0.2031265 ],\n",
              "       [0.26364382]])"
            ]
          },
          "metadata": {
            "tags": []
          },
          "execution_count": 31
        }
      ]
    },
    {
      "cell_type": "code",
      "metadata": {
        "id": "WgsZRbkP0Ti7",
        "colab_type": "code",
        "colab": {}
      },
      "source": [
        "def create_my_dataset(df):\n",
        "    x=[]\n",
        "    y=[]\n",
        "    for i in range(50,df.shape[0]):\n",
        "        x.append(df[i-50:i,0])\n",
        "        y.append(df[i,0])\n",
        "    x = np.array(x)\n",
        "    y = np.array(y)\n",
        "    \n",
        "    return x,y"
      ],
      "execution_count": null,
      "outputs": []
    },
    {
      "cell_type": "code",
      "metadata": {
        "id": "n3xHkMf00V0x",
        "colab_type": "code",
        "colab": {
          "base_uri": "https://localhost:8080/",
          "height": 191
        },
        "outputId": "1e3e053b-059b-4ad0-cacd-789d42f21e8d"
      },
      "source": [
        "x_train, y_train = create_my_dataset(train_data)\n",
        "x_train[:1]"
      ],
      "execution_count": null,
      "outputs": [
        {
          "output_type": "execute_result",
          "data": {
            "text/plain": [
              "array([[0.69540077, 0.71802954, 0.71691141, 0.69449562, 0.69273856,\n",
              "        0.68702014, 0.65069697, 0.66572247, 0.67058899, 0.68185545,\n",
              "        0.70140671, 0.70775342, 0.69252558, 0.69424005, 0.69535817,\n",
              "        0.66824624, 0.66236809, 0.64141118, 0.81091931, 0.82114219,\n",
              "        0.81563675, 0.79540396, 0.81382645, 0.79994037, 0.80510505,\n",
              "        0.76396861, 0.77806766, 0.7371229 , 0.72791166, 0.75507683,\n",
              "        0.75022096, 0.76687574, 0.77218951, 0.79436038, 0.7946479 ,\n",
              "        0.81892724, 0.83529449, 0.82231357, 0.83625289, 0.83295175,\n",
              "        0.83638067, 0.8324832 , 0.88358695, 0.88498195, 0.88416199,\n",
              "        0.8931709 , 0.90290394, 0.88946511, 0.91280735, 0.90557679]])"
            ]
          },
          "metadata": {
            "tags": []
          },
          "execution_count": 33
        }
      ]
    },
    {
      "cell_type": "code",
      "metadata": {
        "id": "OYu52FTy0Zmj",
        "colab_type": "code",
        "colab": {
          "base_uri": "https://localhost:8080/",
          "height": 364
        },
        "outputId": "1cc66b49-2c61-4b9a-f5ea-565b397324c9"
      },
      "source": [
        "x_test, y_test = create_my_dataset(test_data)\n",
        "x_test[:2]"
      ],
      "execution_count": null,
      "outputs": [
        {
          "output_type": "execute_result",
          "data": {
            "text/plain": [
              "array([[0.13860522, 0.16914607, 0.18080654, 0.1323437 , 0.15145836,\n",
              "        0.2031265 , 0.26364382, 0.29152246, 0.31121216, 0.23770326,\n",
              "        0.33827084, 0.35248704, 0.27299349, 0.27508066, 0.31886867,\n",
              "        0.30429041, 0.32469358, 0.35240184, 0.35640581, 0.42986146,\n",
              "        0.38300659, 0.36083572, 0.31768665, 0.31923073, 0.34966509,\n",
              "        0.34353137, 0.30534465, 0.39380451, 0.3149499 , 0.30823048,\n",
              "        0.30309775, 0.26122653, 0.24577508, 0.28630454, 0.28384465,\n",
              "        0.29062796, 0.28689022, 0.34710937, 0.35930229, 0.42418563,\n",
              "        0.45698404, 0.50542558, 0.49391419, 0.50233742, 0.55195033,\n",
              "        0.52094093, 0.49782231, 0.50240131, 0.38544517, 0.46518364],\n",
              "       [0.16914607, 0.18080654, 0.1323437 , 0.15145836, 0.2031265 ,\n",
              "        0.26364382, 0.29152246, 0.31121216, 0.23770326, 0.33827084,\n",
              "        0.35248704, 0.27299349, 0.27508066, 0.31886867, 0.30429041,\n",
              "        0.32469358, 0.35240184, 0.35640581, 0.42986146, 0.38300659,\n",
              "        0.36083572, 0.31768665, 0.31923073, 0.34966509, 0.34353137,\n",
              "        0.30534465, 0.39380451, 0.3149499 , 0.30823048, 0.30309775,\n",
              "        0.26122653, 0.24577508, 0.28630454, 0.28384465, 0.29062796,\n",
              "        0.28689022, 0.34710937, 0.35930229, 0.42418563, 0.45698404,\n",
              "        0.50542558, 0.49391419, 0.50233742, 0.55195033, 0.52094093,\n",
              "        0.49782231, 0.50240131, 0.38544517, 0.46518364, 0.48551226]])"
            ]
          },
          "metadata": {
            "tags": []
          },
          "execution_count": 34
        }
      ]
    },
    {
      "cell_type": "code",
      "metadata": {
        "id": "c3obnXXb0dh_",
        "colab_type": "code",
        "colab": {
          "base_uri": "https://localhost:8080/",
          "height": 52
        },
        "outputId": "ffe43442-17a3-407b-a128-1b09170c55c7"
      },
      "source": [
        "# reshaping the data for our LSTM model\n",
        "\n",
        "x_train= np.reshape(x_train, (x_train.shape[0], x_train.shape[1], 1))\n",
        "x_test= np.reshape(x_test, (x_test.shape[0], x_test.shape[1], 1))\n",
        "print(x_test.shape)\n",
        "print(x_train.shape) \n",
        "# in ('train data', 'test data' ,'feature vector' ) the results 50 is the input to model and 1 is the feature that is 'open' column"
      ],
      "execution_count": null,
      "outputs": [
        {
          "output_type": "stream",
          "text": [
            "(50, 50, 1)\n",
            "(147, 50, 1)\n"
          ],
          "name": "stdout"
        }
      ]
    },
    {
      "cell_type": "code",
      "metadata": {
        "id": "ErwQWJ7C0f9-",
        "colab_type": "code",
        "colab": {}
      },
      "source": [
        "# tf.logging.set_verbosity(tf.logging.ERROR)\n",
        "model = Sequential()\n",
        "model.add(LSTM(units=96, return_sequences=True, input_shape=(x_train.shape[1],1)))\n",
        "model.add(Dropout(0.2))\n",
        "model.add(LSTM(units=96, return_sequences=True))\n",
        "model.add(Dropout(0.2))\n",
        "model.add(LSTM(units=96))\n",
        "model.add(Dropout(0.2))\n",
        "model.add(Dense(units=1))"
      ],
      "execution_count": null,
      "outputs": []
    },
    {
      "cell_type": "code",
      "metadata": {
        "id": "B8jk0m6u0ihb",
        "colab_type": "code",
        "colab": {
          "base_uri": "https://localhost:8080/",
          "height": 399
        },
        "outputId": "1efa4a21-f2c9-4b0e-99bf-bea3f2a97613"
      },
      "source": [
        "model.summary()"
      ],
      "execution_count": null,
      "outputs": [
        {
          "output_type": "stream",
          "text": [
            "Model: \"sequential_1\"\n",
            "_________________________________________________________________\n",
            "Layer (type)                 Output Shape              Param #   \n",
            "=================================================================\n",
            "lstm_3 (LSTM)                (None, 50, 96)            37632     \n",
            "_________________________________________________________________\n",
            "dropout_3 (Dropout)          (None, 50, 96)            0         \n",
            "_________________________________________________________________\n",
            "lstm_4 (LSTM)                (None, 50, 96)            74112     \n",
            "_________________________________________________________________\n",
            "dropout_4 (Dropout)          (None, 50, 96)            0         \n",
            "_________________________________________________________________\n",
            "lstm_5 (LSTM)                (None, 96)                74112     \n",
            "_________________________________________________________________\n",
            "dropout_5 (Dropout)          (None, 96)                0         \n",
            "_________________________________________________________________\n",
            "dense_1 (Dense)              (None, 1)                 97        \n",
            "=================================================================\n",
            "Total params: 185,953\n",
            "Trainable params: 185,953\n",
            "Non-trainable params: 0\n",
            "_________________________________________________________________\n"
          ],
          "name": "stdout"
        }
      ]
    },
    {
      "cell_type": "code",
      "metadata": {
        "id": "RiQaJ8bpZWbv",
        "colab_type": "code",
        "colab": {}
      },
      "source": [
        "model.compile(loss='mean_squared_error', optimizer ='adam')"
      ],
      "execution_count": null,
      "outputs": []
    },
    {
      "cell_type": "code",
      "metadata": {
        "id": "AErkt3aCZZVo",
        "colab_type": "code",
        "colab": {
          "base_uri": "https://localhost:8080/",
          "height": 1000
        },
        "outputId": "b55607fe-4ebc-4b4d-d425-c593412cc7b4"
      },
      "source": [
        "if(not os.path.exists(r'gdrive/My Drive/Colab Notebooks/stock_predictionNifty50.h5')):\n",
        "    model.fit(x_train, y_train, epochs=50, batch_size=32)\n",
        "    model.save(r'gdrive/My Drive/Colab Notebooks/stock_predictionNifty50.h5')\n",
        "    # h5py.h5f.create(')\n",
        "    # model.save(r'/home/sagar/Downloads/StockMarketFilePath/stock_prediction.h5')"
      ],
      "execution_count": null,
      "outputs": [
        {
          "output_type": "stream",
          "text": [
            "Epoch 1/50\n",
            "5/5 [==============================] - 0s 91ms/step - loss: 0.1936\n",
            "Epoch 2/50\n",
            "5/5 [==============================] - 0s 94ms/step - loss: 0.1042\n",
            "Epoch 3/50\n",
            "5/5 [==============================] - 0s 86ms/step - loss: 0.0521\n",
            "Epoch 4/50\n",
            "5/5 [==============================] - 0s 91ms/step - loss: 0.0356\n",
            "Epoch 5/50\n",
            "5/5 [==============================] - 0s 85ms/step - loss: 0.0262\n",
            "Epoch 6/50\n",
            "5/5 [==============================] - 0s 90ms/step - loss: 0.0246\n",
            "Epoch 7/50\n",
            "5/5 [==============================] - 0s 91ms/step - loss: 0.0179\n",
            "Epoch 8/50\n",
            "5/5 [==============================] - 0s 87ms/step - loss: 0.0143\n",
            "Epoch 9/50\n",
            "5/5 [==============================] - 0s 89ms/step - loss: 0.0144\n",
            "Epoch 10/50\n",
            "5/5 [==============================] - 0s 86ms/step - loss: 0.0141\n",
            "Epoch 11/50\n",
            "5/5 [==============================] - 0s 88ms/step - loss: 0.0121\n",
            "Epoch 12/50\n",
            "5/5 [==============================] - 0s 94ms/step - loss: 0.0136\n",
            "Epoch 13/50\n",
            "5/5 [==============================] - 0s 89ms/step - loss: 0.0128\n",
            "Epoch 14/50\n",
            "5/5 [==============================] - 0s 85ms/step - loss: 0.0139\n",
            "Epoch 15/50\n",
            "5/5 [==============================] - 0s 88ms/step - loss: 0.0130\n",
            "Epoch 16/50\n",
            "5/5 [==============================] - 0s 92ms/step - loss: 0.0121\n",
            "Epoch 17/50\n",
            "5/5 [==============================] - 0s 87ms/step - loss: 0.0103\n",
            "Epoch 18/50\n",
            "5/5 [==============================] - 0s 91ms/step - loss: 0.0099\n",
            "Epoch 19/50\n",
            "5/5 [==============================] - 0s 90ms/step - loss: 0.0089\n",
            "Epoch 20/50\n",
            "5/5 [==============================] - 0s 91ms/step - loss: 0.0093\n",
            "Epoch 21/50\n",
            "5/5 [==============================] - 0s 88ms/step - loss: 0.0100\n",
            "Epoch 22/50\n",
            "5/5 [==============================] - 0s 87ms/step - loss: 0.0091\n",
            "Epoch 23/50\n",
            "5/5 [==============================] - 0s 86ms/step - loss: 0.0096\n",
            "Epoch 24/50\n",
            "5/5 [==============================] - 0s 90ms/step - loss: 0.0089\n",
            "Epoch 25/50\n",
            "5/5 [==============================] - 0s 86ms/step - loss: 0.0080\n",
            "Epoch 26/50\n",
            "5/5 [==============================] - 0s 86ms/step - loss: 0.0088\n",
            "Epoch 27/50\n",
            "5/5 [==============================] - 0s 89ms/step - loss: 0.0088\n",
            "Epoch 28/50\n",
            "5/5 [==============================] - 0s 87ms/step - loss: 0.0082\n",
            "Epoch 29/50\n",
            "5/5 [==============================] - 0s 89ms/step - loss: 0.0090\n",
            "Epoch 30/50\n",
            "5/5 [==============================] - 0s 87ms/step - loss: 0.0083\n",
            "Epoch 31/50\n",
            "5/5 [==============================] - 0s 87ms/step - loss: 0.0092\n",
            "Epoch 32/50\n",
            "5/5 [==============================] - 0s 86ms/step - loss: 0.0093\n",
            "Epoch 33/50\n",
            "5/5 [==============================] - 0s 88ms/step - loss: 0.0082\n",
            "Epoch 34/50\n",
            "5/5 [==============================] - 0s 87ms/step - loss: 0.0085\n",
            "Epoch 35/50\n",
            "5/5 [==============================] - 0s 94ms/step - loss: 0.0084\n",
            "Epoch 36/50\n",
            "5/5 [==============================] - 0s 89ms/step - loss: 0.0073\n",
            "Epoch 37/50\n",
            "5/5 [==============================] - 0s 88ms/step - loss: 0.0088\n",
            "Epoch 38/50\n",
            "5/5 [==============================] - 0s 87ms/step - loss: 0.0074\n",
            "Epoch 39/50\n",
            "5/5 [==============================] - 0s 91ms/step - loss: 0.0091\n",
            "Epoch 40/50\n",
            "5/5 [==============================] - 0s 86ms/step - loss: 0.0095\n",
            "Epoch 41/50\n",
            "5/5 [==============================] - 0s 87ms/step - loss: 0.0086\n",
            "Epoch 42/50\n",
            "5/5 [==============================] - 0s 90ms/step - loss: 0.0078\n",
            "Epoch 43/50\n",
            "5/5 [==============================] - 0s 85ms/step - loss: 0.0065\n",
            "Epoch 44/50\n",
            "5/5 [==============================] - 0s 90ms/step - loss: 0.0071\n",
            "Epoch 45/50\n",
            "5/5 [==============================] - 0s 90ms/step - loss: 0.0075\n",
            "Epoch 46/50\n",
            "5/5 [==============================] - 0s 85ms/step - loss: 0.0084\n",
            "Epoch 47/50\n",
            "5/5 [==============================] - 0s 90ms/step - loss: 0.0073\n",
            "Epoch 48/50\n",
            "5/5 [==============================] - 0s 87ms/step - loss: 0.0078\n",
            "Epoch 49/50\n",
            "5/5 [==============================] - 0s 87ms/step - loss: 0.0079\n",
            "Epoch 50/50\n",
            "5/5 [==============================] - 0s 93ms/step - loss: 0.0066\n"
          ],
          "name": "stdout"
        }
      ]
    },
    {
      "cell_type": "code",
      "metadata": {
        "id": "PBrgFxqfZeRO",
        "colab_type": "code",
        "colab": {}
      },
      "source": [
        "model = load_model(r'gdrive/My Drive/Colab Notebooks/stock_predictionNifty50.h5')"
      ],
      "execution_count": null,
      "outputs": []
    },
    {
      "cell_type": "code",
      "metadata": {
        "id": "hs4g3RS3moo9",
        "colab_type": "code",
        "colab": {
          "base_uri": "https://localhost:8080/",
          "height": 282
        },
        "outputId": "69ffd6e8-7020-45f6-ffe3-cfc516a452c6"
      },
      "source": [
        "#visualizing our predictions\n",
        "%matplotlib inline\n",
        "predictions = model.predict(x_test)\n",
        "predictions = scaler.inverse_transform(predictions)\n",
        "\n",
        "fig, ax = plt.subplots(figsize=(8,4))\n",
        "plt.plot(df, color='red', label='original Stockprice')\n",
        "ax.plot(range(len(y_train)+50, len(y_train)+50+len(predictions)),predictions,color='blue', label='predicted')\n",
        "plt.legend()\n",
        "print(range(len(y_train)+50, len(y_train)+50+len(predictions)))"
      ],
      "execution_count": null,
      "outputs": [
        {
          "output_type": "stream",
          "text": [
            "range(197, 247)\n"
          ],
          "name": "stdout"
        },
        {
          "output_type": "display_data",
          "data": {
            "image/png": "[encoded data removed]",
            "text/plain": [
              "<Figure size 576x288 with 1 Axes>"
            ]
          },
          "metadata": {
            "tags": [],
            "needs_background": "light"
          }
        }
      ]
    },
    {
      "cell_type": "code",
      "metadata": {
        "id": "LV9MqQxmmqjs",
        "colab_type": "code",
        "colab": {
          "base_uri": "https://localhost:8080/",
          "height": 282
        },
        "outputId": "d6196617-0682-47a2-a5e0-a9bc2964aaa0"
      },
      "source": [
        "y_test_scaled = scaler.inverse_transform(y_test.reshape(-1,1))\n",
        "\n",
        "fig, ax = plt.subplots(figsize=(8,4))\n",
        "ax.plot(y_test_scaled, color='red', label = 'True Price of testing set')\n",
        "plt.plot(predictions, color = 'blue', label='predicted')\n",
        "plt.legend()"
      ],
      "execution_count": null,
      "outputs": [
        {
          "output_type": "execute_result",
          "data": {
            "text/plain": [
              "<matplotlib.legend.Legend at 0x7f45fbfefef0>"
            ]
          },
          "metadata": {
            "tags": []
          },
          "execution_count": 46
        },
        {
          "output_type": "display_data",
          "data": {
            "image/png": "[encoded data removed]",
            "text/plain": [
              "<Figure size 576x288 with 1 Axes>"
            ]
          },
          "metadata": {
            "tags": [],
            "needs_background": "light"
          }
        }
      ]
    },
    {
      "cell_type": "code",
      "metadata": {
        "id": "hyTcoMYIF6FR",
        "colab_type": "code",
        "colab": {}
      },
      "source": [
        ""
      ],
      "execution_count": null,
      "outputs": []
    }
  ]
}