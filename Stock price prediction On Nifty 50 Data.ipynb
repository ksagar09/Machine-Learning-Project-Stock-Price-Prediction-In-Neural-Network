{
 "cells": [
  {
   "cell_type": "code",
   "execution_count": 6,
   "metadata": {},
   "outputs": [],
   "source": [
    "#Import my dependencies\n",
    "import numpy as np\n",
    "import pandas as pd\n",
    "import matplotlib.pyplot as plt\n",
    "from sklearn.preprocessing import MinMaxScaler\n",
    "import seaborn as sns\n",
    "# from keras.models import Sequential, load_model\n",
    "# from keras.layers import LSTM, Dense, Dropout\n",
    "import os\n",
    "# import tensorflow as tf"
   ]
  },
  {
   "cell_type": "code",
   "execution_count": 2,
   "metadata": {},
   "outputs": [
    {
     "data": {
      "text/html": [
       "<div>\n",
       "<style scoped>\n",
       "    .dataframe tbody tr th:only-of-type {\n",
       "        vertical-align: middle;\n",
       "    }\n",
       "\n",
       "    .dataframe tbody tr th {\n",
       "        vertical-align: top;\n",
       "    }\n",
       "\n",
       "    .dataframe thead th {\n",
       "        text-align: right;\n",
       "    }\n",
       "</style>\n",
       "<table border=\"1\" class=\"dataframe\">\n",
       "  <thead>\n",
       "    <tr style=\"text-align: right;\">\n",
       "      <th></th>\n",
       "      <th>Date</th>\n",
       "      <th>Open</th>\n",
       "      <th>High</th>\n",
       "      <th>Low</th>\n",
       "      <th>Close</th>\n",
       "      <th>Shares Traded</th>\n",
       "      <th>Turnover (Rs. Cr)</th>\n",
       "    </tr>\n",
       "  </thead>\n",
       "  <tbody>\n",
       "    <tr>\n",
       "      <td>0</td>\n",
       "      <td>26-Aug-2019</td>\n",
       "      <td>11000.30</td>\n",
       "      <td>11070.30</td>\n",
       "      <td>10756.55</td>\n",
       "      <td>11057.85</td>\n",
       "      <td>684141923</td>\n",
       "      <td>22375.99</td>\n",
       "    </tr>\n",
       "    <tr>\n",
       "      <td>1</td>\n",
       "      <td>27-Aug-2019</td>\n",
       "      <td>11106.55</td>\n",
       "      <td>11141.75</td>\n",
       "      <td>11049.50</td>\n",
       "      <td>11105.35</td>\n",
       "      <td>685551267</td>\n",
       "      <td>27413.16</td>\n",
       "    </tr>\n",
       "    <tr>\n",
       "      <td>2</td>\n",
       "      <td>28-Aug-2019</td>\n",
       "      <td>11101.30</td>\n",
       "      <td>11129.65</td>\n",
       "      <td>10987.65</td>\n",
       "      <td>11046.10</td>\n",
       "      <td>549954696</td>\n",
       "      <td>16739.43</td>\n",
       "    </tr>\n",
       "    <tr>\n",
       "      <td>3</td>\n",
       "      <td>29-Aug-2019</td>\n",
       "      <td>10996.05</td>\n",
       "      <td>11021.10</td>\n",
       "      <td>10922.40</td>\n",
       "      <td>10948.30</td>\n",
       "      <td>649876160</td>\n",
       "      <td>20127.77</td>\n",
       "    </tr>\n",
       "    <tr>\n",
       "      <td>4</td>\n",
       "      <td>30-Aug-2019</td>\n",
       "      <td>10987.80</td>\n",
       "      <td>11042.60</td>\n",
       "      <td>10874.80</td>\n",
       "      <td>11023.25</td>\n",
       "      <td>628154431</td>\n",
       "      <td>21057.31</td>\n",
       "    </tr>\n",
       "  </tbody>\n",
       "</table>\n",
       "</div>"
      ],
      "text/plain": [
       "          Date      Open      High       Low     Close  Shares Traded  \\\n",
       "0  26-Aug-2019  11000.30  11070.30  10756.55  11057.85      684141923   \n",
       "1  27-Aug-2019  11106.55  11141.75  11049.50  11105.35      685551267   \n",
       "2  28-Aug-2019  11101.30  11129.65  10987.65  11046.10      549954696   \n",
       "3  29-Aug-2019  10996.05  11021.10  10922.40  10948.30      649876160   \n",
       "4  30-Aug-2019  10987.80  11042.60  10874.80  11023.25      628154431   \n",
       "\n",
       "   Turnover (Rs. Cr)  \n",
       "0           22375.99  \n",
       "1           27413.16  \n",
       "2           16739.43  \n",
       "3           20127.77  \n",
       "4           21057.31  "
      ]
     },
     "execution_count": 2,
     "metadata": {},
     "output_type": "execute_result"
    }
   ],
   "source": [
    "df = pd.read_csv(r'Nifty50data.csv')\n",
    "df.head()"
   ]
  },
  {
   "cell_type": "code",
   "execution_count": 5,
   "metadata": {},
   "outputs": [],
   "source": [
    "# df.describe()"
   ]
  },
  {
   "cell_type": "code",
   "execution_count": 4,
   "metadata": {},
   "outputs": [
    {
     "name": "stdout",
     "output_type": "stream",
     "text": [
      "<class 'pandas.core.frame.DataFrame'>\n",
      "RangeIndex: 247 entries, 0 to 246\n",
      "Data columns (total 7 columns):\n",
      "Date                 247 non-null object\n",
      "Open                 247 non-null float64\n",
      "High                 247 non-null float64\n",
      "Low                  247 non-null float64\n",
      "Close                247 non-null float64\n",
      "Shares Traded        247 non-null int64\n",
      "Turnover (Rs. Cr)    247 non-null float64\n",
      "dtypes: float64(5), int64(1), object(1)\n",
      "memory usage: 13.6+ KB\n"
     ]
    }
   ],
   "source": [
    "df.info()"
   ]
  },
  {
   "cell_type": "code",
   "execution_count": 10,
   "metadata": {},
   "outputs": [
    {
     "data": {
      "text/plain": [
       "[]"
      ]
     },
     "execution_count": 10,
     "metadata": {},
     "output_type": "execute_result"
    },
    {
     "data": {
      "image/png": "[encoded data removed]",
      "text/plain": [
       "<Figure size 432x288 with 1 Axes>"
      ]
     },
     "metadata": {},
     "output_type": "display_data"
    }
   ],
   "source": [
    "#Data Visualisation\n",
    "\n",
    "%matplotlib inline\n",
    "sns.set(style='white')\n",
    "\n",
    "sns.boxplot(x= 'High', y='Low', data=df)\n",
    "plt.yscale('log')\n",
    "plt.ylabel('Lowest Price')\n",
    "plt.xlabel('Highest Price')\n",
    "plt.plot()"
   ]
  },
  {
   "cell_type": "code",
   "execution_count": 13,
   "metadata": {},
   "outputs": [
    {
     "data": {
      "text/plain": [
       "[]"
      ]
     },
     "execution_count": 13,
     "metadata": {},
     "output_type": "execute_result"
    },
    {
     "data": {
      "image/png": "[encoded data removed]",
      "text/plain": [
       "<Figure size 432x288 with 1 Axes>"
      ]
     },
     "metadata": {},
     "output_type": "display_data"
    }
   ],
   "source": [
    "\n",
    "sns.set(style='white')\n",
    "\n",
    "sns.boxplot(x='Turnover (Rs. Cr)', data=df)\n",
    "# plt.yscale('log')\n",
    "# plt.ylabel('Lowest Price')\n",
    "# plt.xlabel('Highest Price')\n",
    "plt.plot()"
   ]
  },
  {
   "cell_type": "code",
   "execution_count": null,
   "metadata": {},
   "outputs": [],
   "source": []
  }
 ],
 "metadata": {
  "kernelspec": {
   "display_name": "Python 3",
   "language": "python",
   "name": "python3"
  },
  "language_info": {
   "codemirror_mode": {
    "name": "ipython",
    "version": 3
   },
   "file_extension": ".py",
   "mimetype": "text/x-python",
   "name": "python",
   "nbconvert_exporter": "python",
   "pygments_lexer": "ipython3",
   "version": "3.7.4"
  }
 },
 "nbformat": 4,
 "nbformat_minor": 2
}
